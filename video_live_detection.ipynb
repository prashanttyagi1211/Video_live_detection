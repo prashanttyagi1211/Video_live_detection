{
 "cells": [
  {
   "cell_type": "code",
   "execution_count": null,
   "id": "9a299e15-b7da-4220-9371-c5d980e3a7a2",
   "metadata": {},
   "outputs": [],
   "source": [
    "import cv2\n",
    "from ultralytics import YOLO\n",
    "\n",
    "# Load YOLO model (more accurate)\n",
    "model = YOLO(\"yolov8m.pt\")\n",
    "\n",
    "# Load video\n",
    "cap = cv2.VideoCapture(r\"C:\\Users\\prash\\Downloads\\2.mp4\")\n",
    "\n",
    "while cap.isOpened():\n",
    "    ret, frame = cap.read()\n",
    "    if not ret:\n",
    "        break\n",
    "\n",
    "    frame = cv2.resize(frame, (1280, 720))\n",
    "\n",
    "    # Detect persons only (class 0), no tracking needed\n",
    "    results = model.predict(source=frame, classes=[0], imgsz=960, conf=0.2)\n",
    "\n",
    "    annotated_frame = frame.copy()\n",
    "\n",
    "    person_count = 0\n",
    "\n",
    "    if results[0].boxes is not None:\n",
    "        for box in results[0].boxes:\n",
    "            x1, y1, x2, y2 = map(int, box.xyxy[0])\n",
    "            person_count += 1  # Count every detected person\n",
    "            cv2.rectangle(annotated_frame, (x1, y1), (x2, y2), (0, 255, 0), 2)\n",
    "\n",
    "    # Display person count\n",
    "    cv2.putText(annotated_frame, f\"Live Person Count: {person_count}\", (10, 50),\n",
    "                cv2.FONT_HERSHEY_SIMPLEX, 1.2, (0, 0, 255), 3)\n",
    "\n",
    "    # Show frame\n",
    "    cv2.imshow(\"Live Person Counter\", annotated_frame)\n",
    "    if cv2.waitKey(50) & 0xFF == ord('q'):\n",
    "        break\n",
    "\n",
    "cap.release()\n",
    "cv2.destroyAllWindows()\n"
   ]
  }
 ],
 "metadata": {
  "kernelspec": {
   "display_name": "Python 3 (ipykernel)",
   "language": "python",
   "name": "python3"
  },
  "language_info": {
   "codemirror_mode": {
    "name": "ipython",
    "version": 3
   },
   "file_extension": ".py",
   "mimetype": "text/x-python",
   "name": "python",
   "nbconvert_exporter": "python",
   "pygments_lexer": "ipython3",
   "version": "3.12.7"
  }
 },
 "nbformat": 4,
 "nbformat_minor": 5
}
